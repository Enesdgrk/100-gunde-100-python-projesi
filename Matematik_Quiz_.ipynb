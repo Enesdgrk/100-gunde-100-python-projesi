{
  "nbformat": 4,
  "nbformat_minor": 0,
  "metadata": {
    "colab": {
      "provenance": [],
      "authorship_tag": "ABX9TyNeivgOeRZ3kxXChiOOkvT+",
      "include_colab_link": true
    },
    "kernelspec": {
      "name": "python3",
      "display_name": "Python 3"
    },
    "language_info": {
      "name": "python"
    }
  },
  "cells": [
    {
      "cell_type": "markdown",
      "metadata": {
        "id": "view-in-github",
        "colab_type": "text"
      },
      "source": [
        "<a href=\"https://colab.research.google.com/github/Enesdgrk/100-gunde-100-python-projesi/blob/main/Matematik_Quiz_.ipynb\" target=\"_parent\"><img src=\"https://colab.research.google.com/assets/colab-badge.svg\" alt=\"Open In Colab\"/></a>"
      ]
    },
    {
      "cell_type": "code",
      "execution_count": null,
      "metadata": {
        "id": "GpBRBnaDS95H"
      },
      "outputs": [],
      "source": [
        "import random\n",
        "\n",
        "def soru_olustur():\n",
        "    sayi1 = random.randint(1, 10)\n",
        "    sayi2 = random.randint(1, 10)\n",
        "    islem = random.choice(['+', '-', '*'])\n",
        "\n",
        "    if islem == '+':\n",
        "        cevap = sayi1 + sayi2\n",
        "    elif islem == '-':\n",
        "        cevap = sayi1 - sayi2\n",
        "    else:\n",
        "        cevap = sayi1 * sayi2\n",
        "\n",
        "    return f\"{sayi1} {islem} {sayi2}\", cevap\n",
        "\n",
        "\n",
        "def matematik_yarisi():\n",
        "   skor = 0\n",
        "   tur  = 5\n",
        "\n",
        "   print(\"\\n--- YARIŞMAYA HOŞGELDİNİZ ---\")\n",
        "   print(\"Size matematik problemlerİ verilecek ve sizden doğru cevapları vermeniz istenecek\")\n",
        "\n",
        "   for i in range(tur):\n",
        "    soru, dogru_cevap = soru_olustur()\n",
        "    print(f\"\\nSoru {i + 1} : {soru}\")\n",
        "    kullanici_cevap = int(input(\"Cevap : \"))\n",
        "\n",
        "    if kullanici_cevap == dogru_cevap:\n",
        "     print(\"Cevabınız Doğru\")\n",
        "     skor += 1\n",
        "    else:\n",
        "     print(f\"Cevabınız Yanlış! Doğru Cevap: {dogru_cevap}\")\n",
        "\n",
        "   print(\"\\n--- OYUN BİTTİ ---\")\n",
        "   print(f\"Skorunuz : {skor}/{tur}\")\n",
        "\n",
        "   if skor == tur:\n",
        "    print(\"Tebrikler! Tüm soruları doğru bildiniz.\")\n",
        "   elif skor >= tur // 2:\n",
        "    print(\"Güzel! İyi iş çıkardın.\")\n",
        "   else:\n",
        "    print(\"Pratik yapmaya devam edin! Bir dahaki sefere daha iyisini yapabilirsiniz.\")\n",
        "\n",
        "matematik_yarisi()"
      ]
    }
  ]
}