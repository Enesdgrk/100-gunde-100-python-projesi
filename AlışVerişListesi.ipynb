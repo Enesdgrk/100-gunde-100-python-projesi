{
  "nbformat": 4,
  "nbformat_minor": 0,
  "metadata": {
    "colab": {
      "provenance": [],
      "authorship_tag": "ABX9TyMlXrKaJOCdiGwhb9FBq34B",
      "include_colab_link": true
    },
    "kernelspec": {
      "name": "python3",
      "display_name": "Python 3"
    },
    "language_info": {
      "name": "python"
    }
  },
  "cells": [
    {
      "cell_type": "markdown",
      "metadata": {
        "id": "view-in-github",
        "colab_type": "text"
      },
      "source": [
        "<a href=\"https://colab.research.google.com/github/Enesdgrk/100-gunde-100-python-projesi/blob/main/Al%C4%B1%C5%9FVeri%C5%9FListesi.ipynb\" target=\"_parent\"><img src=\"https://colab.research.google.com/assets/colab-badge.svg\" alt=\"Open In Colab\"/></a>"
      ]
    },
    {
      "cell_type": "code",
      "execution_count": null,
      "metadata": {
        "id": "nk49_anyMxQe"
      },
      "outputs": [],
      "source": [
        "alisveris_liste = []\n",
        "\n",
        "def menu_ekrani():\n",
        "  print(\"\\n--- Alışveriş Listesi ---\")\n",
        "  print(\"1. Listeyi Göster\")\n",
        "  print(\"2. Ürün Ekle\")\n",
        "  print(\"3. Ürün Sil\")\n",
        "  print(\"4. Çıkış\")\n",
        "\n",
        "while True:\n",
        "  menu_ekrani()\n",
        "  secim = input(\"Seçiminiz : \")\n",
        "  if secim == \"1\":\n",
        "    print(\"Listedeki Ürünler :\")\n",
        "    if len(alisveris_liste) == 0:\n",
        "      print(\"Liste Boş\")\n",
        "    else:\n",
        "      for index, urun in enumerate(alisveris_liste):\n",
        "                print(f\"{index + 1}. {urun}\")\n",
        "  elif secim == \"2\":\n",
        "    urun = input(\"Eklemek istediğiniz ürünü girin : \")\n",
        "    alisveris_liste.append(urun)\n",
        "    print(f\"{urun} listeye eklendi.\")\n",
        "  elif secim == \"3\":\n",
        "    urun = input(\"Silmek istediğiniz ürünü girin : \")\n",
        "    if urun in alisveris_liste:\n",
        "      alisveris_liste.remove(urun)\n",
        "      print(f\"{urun} listede silindi.\")\n",
        "    else:\n",
        "      print(f\"{urun} listede bulunmuyor.\")\n",
        "  elif secim == \"4\":\n",
        "    print(\"Çıkış yapılıyor...\")\n",
        "    break\n",
        "  else:\n",
        "    print(\"Geçersiz seçim.\")"
      ]
    }
  ]
}