{
  "nbformat": 4,
  "nbformat_minor": 0,
  "metadata": {
    "colab": {
      "provenance": [],
      "authorship_tag": "ABX9TyM+CDnRrD5O1HfjgdPS/P15",
      "include_colab_link": true
    },
    "kernelspec": {
      "name": "python3",
      "display_name": "Python 3"
    },
    "language_info": {
      "name": "python"
    }
  },
  "cells": [
    {
      "cell_type": "markdown",
      "metadata": {
        "id": "view-in-github",
        "colab_type": "text"
      },
      "source": [
        "<a href=\"https://colab.research.google.com/github/Enesdgrk/100-gunde-100-python-projesi/blob/main/GeriSay%C4%B1mSayac%C4%B1.ipynb\" target=\"_parent\"><img src=\"https://colab.research.google.com/assets/colab-badge.svg\" alt=\"Open In Colab\"/></a>"
      ]
    },
    {
      "cell_type": "code",
      "execution_count": null,
      "metadata": {
        "id": "9H4k6I1feqeL"
      },
      "outputs": [],
      "source": [
        "# Geri Sayım Sayacı\n",
        "\n",
        "import time\n",
        "\n",
        "start = int(input(\"Başlangıç Sayısını Giriniz: \"))\n",
        "\n",
        "while start > 0:\n",
        "  print(start)\n",
        "  start -= 1\n",
        "  time.sleep(1)\n",
        "print(\"TEBRİKLER!\")"
      ]
    }
  ]
}