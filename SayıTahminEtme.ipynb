{
  "nbformat": 4,
  "nbformat_minor": 0,
  "metadata": {
    "colab": {
      "provenance": [],
      "authorship_tag": "ABX9TyOkKNGLfP/J1Bhi59taAh06",
      "include_colab_link": true
    },
    "kernelspec": {
      "name": "python3",
      "display_name": "Python 3"
    },
    "language_info": {
      "name": "python"
    }
  },
  "cells": [
    {
      "cell_type": "markdown",
      "metadata": {
        "id": "view-in-github",
        "colab_type": "text"
      },
      "source": [
        "<a href=\"https://colab.research.google.com/github/Enesdgrk/100-gunde-100-python-projesi/blob/main/Say%C4%B1TahminEtme.ipynb\" target=\"_parent\"><img src=\"https://colab.research.google.com/assets/colab-badge.svg\" alt=\"Open In Colab\"/></a>"
      ]
    },
    {
      "cell_type": "code",
      "execution_count": null,
      "metadata": {
        "id": "kU9IIEQpbyZh"
      },
      "outputs": [],
      "source": [
        "import random\n",
        "\n",
        "gizli_sayi = random.randint(1, 15)\n",
        "hak = 3\n",
        "\n",
        "print(\"1 ile 10 arasında bir sayı tuttum.\")\n",
        "\n",
        "while hak > 0:\n",
        "  tahmin = int(input(\"Tahmininizi girin: \"))\n",
        "  if tahmin == gizli_sayi:\n",
        "    print(\"Tebrikler! Sayıyı doğru tahmin ettiniz.\")\n",
        "    break\n",
        "  elif tahmin < gizli_sayi:\n",
        "    print(\"Çok düşük! Tekrar deneyin.\")\n",
        "  else:\n",
        "    print(\"Çok yüksek! Tekrar deneyin.\")\n",
        "  hak -= 1\n",
        "\n",
        "  if hak == 0:\n",
        "    print(\"Üzgünüm, hakkınız tükendi. Tutulan sayı:\", gizli_sayi)"
      ]
    }
  ]
}