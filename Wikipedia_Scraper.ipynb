{
  "nbformat": 4,
  "nbformat_minor": 0,
  "metadata": {
    "colab": {
      "provenance": [],
      "authorship_tag": "ABX9TyOP48nAPaAenuvZ6D2zhWpT",
      "include_colab_link": true
    },
    "kernelspec": {
      "name": "python3",
      "display_name": "Python 3"
    },
    "language_info": {
      "name": "python"
    }
  },
  "cells": [
    {
      "cell_type": "markdown",
      "metadata": {
        "id": "view-in-github",
        "colab_type": "text"
      },
      "source": [
        "<a href=\"https://colab.research.google.com/github/Enesdgrk/100-gunde-100-python-projesi/blob/main/Wikipedia_Scraper.ipynb\" target=\"_parent\"><img src=\"https://colab.research.google.com/assets/colab-badge.svg\" alt=\"Open In Colab\"/></a>"
      ]
    },
    {
      "cell_type": "code",
      "execution_count": null,
      "metadata": {
        "id": "09FJF4gSX8kL"
      },
      "outputs": [],
      "source": [
        "# Wikipedia Makale Kazıyıcı\n",
        "import requests\n",
        "from bs4 import BeautifulSoup\n",
        "\n",
        "# Adım 1: Wikipedia sayfasını getir\n",
        "def get_wikipedia_page(konu):\n",
        "    url = f\"https://tr.wikipedia.org/wiki/{konu.replace(' ', '_')}\"  # ✅ Türkçe Wikipedia için\n",
        "    response = requests.get(url)\n",
        "    if response.status_code == 200:\n",
        "        return response.text\n",
        "    else:\n",
        "        print(f\"Veri alınamadı. Hata kodu: {response.status_code}. Konuyu kontrol edip tekrar deneyin.\")\n",
        "        return None\n",
        "\n",
        "# Adım 2: Başlığı getir\n",
        "def get_article_title(soup):\n",
        "    return soup.find('h1').text\n",
        "\n",
        "# Adım 3: Makale özetini getir (ilk paragraf)\n",
        "def get_article_summary(soup):\n",
        "    paragraflar = soup.find_all('p')\n",
        "    for para in paragraflar:\n",
        "        if para.text.strip():  # boş değilse\n",
        "            return para.text.strip()\n",
        "    return \"Özet bulunamadı.\"\n",
        "\n",
        "# Adım 4: Alt başlıkları getir (h2, h3, h4)\n",
        "def get_headings(soup):\n",
        "    basliklar = [baslik.text.strip() for baslik in soup.find_all(['h2', 'h3', 'h4'])]\n",
        "    return basliklar\n",
        "\n",
        "# Adım 5: İlgili bağlantıları getir\n",
        "def get_related_links(soup):\n",
        "    linkler = []\n",
        "    for a_tag in soup.find_all('a', href=True):\n",
        "        href = a_tag['href']\n",
        "        if href.startswith('/wiki/') and \":\" not in href:\n",
        "            linkler.append(f\"https://tr.wikipedia.org{href}\")  # ✅ Türkçe Wikipedia\n",
        "    return list(set(linkler))[:5]  # yinelenenleri kaldır, sadece ilk 5 link\n",
        "\n",
        "# Ana program\n",
        "def main():\n",
        "    konu = input(\"Wikipedia'da aramak istediğiniz konuyu girin: \").strip()\n",
        "    sayfa_icerigi = get_wikipedia_page(konu)\n",
        "\n",
        "    if sayfa_icerigi:\n",
        "        soup = BeautifulSoup(sayfa_icerigi, 'html.parser')\n",
        "        baslik = get_article_title(soup)\n",
        "        ozet = get_article_summary(soup)\n",
        "        basliklar = get_headings(soup)\n",
        "        ilgili_linkler = get_related_links(soup)\n",
        "\n",
        "        print(\"\\n--- Wikipedia Makale Detayları ---\")\n",
        "        print(f\"\\nBaşlık: {baslik}\")\n",
        "        print(f\"\\nÖzet: {ozet}\")\n",
        "        print(\"\\nAlt Başlıklar:\")\n",
        "        for b in basliklar[:5]:\n",
        "            print(f\"- {b}\")\n",
        "\n",
        "        print(\"\\nİlgili Bağlantılar:\")\n",
        "        for link in ilgili_linkler:\n",
        "            print(f\"- {link}\")\n",
        "\n",
        "if __name__ == \"__main__\":\n",
        "    main()\n"
      ]
    }
  ]
}