{
  "nbformat": 4,
  "nbformat_minor": 0,
  "metadata": {
    "colab": {
      "provenance": [],
      "authorship_tag": "ABX9TyNwTWrRVe2VuwvPnura6Emq",
      "include_colab_link": true
    },
    "kernelspec": {
      "name": "python3",
      "display_name": "Python 3"
    },
    "language_info": {
      "name": "python"
    }
  },
  "cells": [
    {
      "cell_type": "markdown",
      "metadata": {
        "id": "view-in-github",
        "colab_type": "text"
      },
      "source": [
        "<a href=\"https://colab.research.google.com/github/Enesdgrk/100-gunde-100-python-projesi/blob/main/Ki%C5%9FiRehberi.ipynb\" target=\"_parent\"><img src=\"https://colab.research.google.com/assets/colab-badge.svg\" alt=\"Open In Colab\"/></a>"
      ]
    },
    {
      "cell_type": "code",
      "source": [
        "rehber = {}\n",
        "\n",
        "def rehber_goster():\n",
        "    print(\"\\n---REHBER---\")\n",
        "    print(\"1. Kişi Ekle\")\n",
        "    print(\"2. Kişileri Göster\")\n",
        "    print(\"3. Kişiyi Ara\")\n",
        "    print(\"4. Kişiyi Güncelle\")\n",
        "    print(\"5. Kişiyi Sil\")\n",
        "    print(\"6. Çıkış\")\n",
        "\n",
        "def kisi_ekle():\n",
        "    isim = input(\"Kişi İsmi: \")\n",
        "    soyisim = input(\"Kişi Soyismi: \")\n",
        "    telefon = input(\"Kişi Telefonu: \")\n",
        "    rehber[isim] = {\"soyisim\": soyisim, \"telefon\": telefon}\n",
        "    print(f\"{isim} {soyisim} rehberine başarıyla eklendi.\")\n",
        "\n",
        "def kisi_goster():\n",
        "    if rehber:\n",
        "        print(\"\\n---Kişiler---\")\n",
        "        for isim, bilgileri in rehber.items():\n",
        "            print(f\"İsim: {isim}\")\n",
        "            print(f\"Soyisim: {bilgileri['soyisim']}\")\n",
        "            print(f\"Telefon: {bilgileri['telefon']}\")\n",
        "    else:\n",
        "        print(\"Rehberde kayıtlı kişi yok.\")\n",
        "\n",
        "def kisi_ara():\n",
        "    isim = input(\"Aramak istediğiniz kişinin ismini girin: \")\n",
        "    if isim in rehber:\n",
        "      prints(f\"\\n---{isim} Bilgileri---\")\n",
        "      prints(f\"İsim: {isim}\")\n",
        "      prints(f\"Soyisim: {rehber[isim]['soyisim']}\")\n",
        "      prints(f\"Telefon: {rehber[isim]['telefon']}\")\n",
        "\n",
        "    else:\n",
        "      print(f\"{isim} rehberde bulunmamaktadır.\")\n",
        "\n",
        "def kisi_guncelle():\n",
        "    isim = input(\"Güncellemek istediğiniz kişinin ismini girin: \")\n",
        "    if isim in rehber:\n",
        "        soyisim = input(\"Yeni soyisim: \")\n",
        "        telefon = input(\"Yeni telefon numarası: \")\n",
        "        rehber[isim] = {\"soyisim\": soyisim, \"telefon\": telefon}\n",
        "        print(f\"{isim} bilgileri başarıyla güncellendi.\")\n",
        "\n",
        "    else:\n",
        "        print(f\"{isim} rehberde bulunmamaktadır.\")\n",
        "\n",
        "def kisi_sil():\n",
        "    isim = input(\"Silmek istediğiniz kişinin ismini girin: \")\n",
        "    if isim in rehber:\n",
        "        del rehber[isim]\n",
        "        print(f\"{isim} başarıyla rehberden silindi.\")\n",
        "\n",
        "    else:\n",
        "        print(f\"{isim} rehberde bulunmamaktadır.\")\n",
        "\n",
        "while True:\n",
        "  rehber_goster()\n",
        "  secim = input(\"Bir seçenek girin (1-6): \")\n",
        "  if secim == \"1\":\n",
        "    kisi_ekle()\n",
        "  elif secim == \"2\":\n",
        "    kisi_goster()\n",
        "  elif secim == \"3\":\n",
        "    kisi_ara()\n",
        "  elif secim == \"4\":\n",
        "    kisi_guncelle()\n",
        "  elif secim == \"5\":\n",
        "    kisi_sil()\n",
        "  elif secim == \"6\":\n",
        "    print(\"Çıkış yapılıyor...\")\n",
        "    break\n",
        "  else:\n",
        "    print(\"Lütfen 1 ve 6 arasında bir seçim yapınız.\")"
      ],
      "metadata": {
        "id": "yqNnoo4ydv0C"
      },
      "execution_count": null,
      "outputs": []
    }
  ]
}