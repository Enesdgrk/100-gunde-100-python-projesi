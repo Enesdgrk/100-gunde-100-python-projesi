{
  "nbformat": 4,
  "nbformat_minor": 0,
  "metadata": {
    "colab": {
      "provenance": [],
      "authorship_tag": "ABX9TyOz6jd1TaUZV8xHV/ACXFPS",
      "include_colab_link": true
    },
    "kernelspec": {
      "name": "python3",
      "display_name": "Python 3"
    },
    "language_info": {
      "name": "python"
    }
  },
  "cells": [
    {
      "cell_type": "markdown",
      "metadata": {
        "id": "view-in-github",
        "colab_type": "text"
      },
      "source": [
        "<a href=\"https://colab.research.google.com/github/Enesdgrk/100-gunde-100-python-projesi/blob/main/Ki%C5%9Fiselle%C5%9Ftirilmi%C5%9FKar%C5%9F%C4%B1lama.ipynb\" target=\"_parent\"><img src=\"https://colab.research.google.com/assets/colab-badge.svg\" alt=\"Open In Colab\"/></a>"
      ]
    },
    {
      "cell_type": "code",
      "execution_count": null,
      "metadata": {
        "id": "pNySP2RXdnsF"
      },
      "outputs": [],
      "source": [
        "isim = input(\"İsminizi giriniz: \")\n",
        "soyisim = input(\"Soyisminizi giriniz: \")\n",
        "yas = int(input(\"Yaşınızı giriniz: \"))\n",
        "meslek = input(\"Mesleğinizi giriniz: \")\n",
        "sehir = input(\"Şehrinizi giriniz: \")\n",
        "\n",
        "print(\"\\n---- Kişiselleştirilmiş Karşılama --- \")\n",
        "print(f\"Merhaba , {isim} {soyisim}. Sisteme Hoşgeldiniz !\")\n",
        "print(f\"Sizin yaşınız {yas} ve şuan ki mesleğiniz {meslek}. Yaşadığınız şehir {sehir}.\")\n",
        "print(\"Sisteme girişiniz başarılı.\")"
      ]
    }
  ]
}