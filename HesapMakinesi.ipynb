{
  "nbformat": 4,
  "nbformat_minor": 0,
  "metadata": {
    "colab": {
      "provenance": [],
      "authorship_tag": "ABX9TyP46QOn+1TNBxWJQqwlIzMH",
      "include_colab_link": true
    },
    "kernelspec": {
      "name": "python3",
      "display_name": "Python 3"
    },
    "language_info": {
      "name": "python"
    }
  },
  "cells": [
    {
      "cell_type": "markdown",
      "metadata": {
        "id": "view-in-github",
        "colab_type": "text"
      },
      "source": [
        "<a href=\"https://colab.research.google.com/github/Enesdgrk/100-gunde-100-python-projesi/blob/main/HesapMakinesi.ipynb\" target=\"_parent\"><img src=\"https://colab.research.google.com/assets/colab-badge.svg\" alt=\"Open In Colab\"/></a>"
      ]
    },
    {
      "cell_type": "code",
      "execution_count": 3,
      "metadata": {
        "colab": {
          "base_uri": "https://localhost:8080/"
        },
        "id": "X8MVIi-eIP99",
        "outputId": "ef82fdfd-2419-4478-96cd-8ba4dead66e6"
      },
      "outputs": [
        {
          "output_type": "stream",
          "name": "stdout",
          "text": [
            "\n",
            "--- Hesap Makinesi ---\n",
            "1. Toplama\n",
            "2. Çıkarma\n",
            "3. Çarpma\n",
            "4. Bölme\n",
            "5. Çıkış\n",
            "Bir seçim yapın (1/2/3/4/5): 1\n",
            "Birinci sayıyı girin: 2\n",
            "İkinci sayıyı girin: 3\n",
            "Sonuç: 5.0\n",
            "Hesap makinesi kapatılıyor...\n",
            "\n",
            "--- Hesap Makinesi ---\n",
            "1. Toplama\n",
            "2. Çıkarma\n",
            "3. Çarpma\n",
            "4. Bölme\n",
            "5. Çıkış\n",
            "Bir seçim yapın (1/2/3/4/5): 5\n",
            "Çıkış yapılıyor...\n"
          ]
        }
      ],
      "source": [
        "# HESAP MAKİNESİ\n",
        "\n",
        "# Fonksiyonları tanımla\n",
        "def topla(x, y):\n",
        "    return x + y\n",
        "def cıkar(x, y):\n",
        "    return x - y\n",
        "def carp(x, y):\n",
        "    return x * y\n",
        "def bol(x, y):\n",
        "  if y == 0:\n",
        "    raise ZeroDivisionError (\"HATA: Sıfıra Bölünme Hatası\")\n",
        "    return x / y\n",
        "\n",
        "# Menü gösterme fonksiyonu\n",
        "def menu_goster():\n",
        "    print(\"\\n--- Hesap Makinesi ---\")\n",
        "    print(\"1. Toplama\")\n",
        "    print(\"2. Çıkarma\")\n",
        "    print(\"3. Çarpma\")\n",
        "    print(\"4. Bölme\")\n",
        "    print(\"5. Çıkış\")\n",
        "\n",
        "# Ana program döngüsü\n",
        "\n",
        "while True:\n",
        "  menu_goster()\n",
        "  secim = input(\"Bir seçim yapın (1/2/3/4/5): \")\n",
        "\n",
        "  if secim == '5':\n",
        "    print(\"Çıkış yapılıyor...\")\n",
        "    break\n",
        "\n",
        "  try:\n",
        "    sayi1 = float(input(\"Birinci sayıyı girin: \"))\n",
        "    sayi2 = float(input(\"İkinci sayıyı girin: \"))\n",
        "\n",
        "    if secim == '1':\n",
        "      print(\"Sonuç:\", topla(sayi1, sayi2))\n",
        "    elif secim == '2':\n",
        "      print(\"Sonuç:\", cıkar(sayi1, sayi2))\n",
        "    elif secim == '3':\n",
        "      print(\"Sonuç:\", carp(sayi1, sayi2))\n",
        "    elif secim == '4':\n",
        "      print(\"Sonuç:\", bol(sayi1, sayi2))\n",
        "    else:\n",
        "      print(\"Geçersiz seçim!\")\n",
        "  except ValueError:\n",
        "    print(\"Geçersiz sayı girdiniz!\")\n",
        "  except ZeroDivisionError as hata:\n",
        "    print(f\"Hata : {hata}\")\n",
        "  except Exception as hata:\n",
        "    print(f\"Beklenmeyen bir hata oluştu : {hata}\")\n",
        "\n",
        "  finally:\n",
        "    print(\"Hesap makinesi kapatılıyor...\")"
      ]
    },
    {
      "cell_type": "code",
      "source": [],
      "metadata": {
        "id": "X68aSZ9PLMA9"
      },
      "execution_count": null,
      "outputs": []
    }
  ]
}