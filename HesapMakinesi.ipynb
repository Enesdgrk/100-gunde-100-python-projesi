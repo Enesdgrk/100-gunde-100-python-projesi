{
  "nbformat": 4,
  "nbformat_minor": 0,
  "metadata": {
    "colab": {
      "provenance": [],
      "authorship_tag": "ABX9TyNGtpJrLJ/5ocni5pssUsp7",
      "include_colab_link": true
    },
    "kernelspec": {
      "name": "python3",
      "display_name": "Python 3"
    },
    "language_info": {
      "name": "python"
    }
  },
  "cells": [
    {
      "cell_type": "markdown",
      "metadata": {
        "id": "view-in-github",
        "colab_type": "text"
      },
      "source": [
        "<a href=\"https://colab.research.google.com/github/Enesdgrk/100-gunde-100-python-projesi/blob/main/HesapMakinesi.ipynb\" target=\"_parent\"><img src=\"https://colab.research.google.com/assets/colab-badge.svg\" alt=\"Open In Colab\"/></a>"
      ]
    },
    {
      "cell_type": "code",
      "execution_count": null,
      "metadata": {
        "id": "snzp_xBad9yn"
      },
      "outputs": [],
      "source": [
        "# Basit hesap makinesi\n",
        "\n",
        "# Adım 1 : Kullanıcıdan 2 sayı al\n",
        "sayi1 = float(input(\"Birinci sayıyı giriniz : \"))\n",
        "sayi2 = float(input(\"İkinci sayıyı giriniz : \"))\n",
        "\n",
        "# Adım 2 : İşlemleri tanımla\n",
        "toplama = sayi1 + sayi2\n",
        "cikarma = sayi1 - sayi2\n",
        "carpma = sayi1 * sayi2\n",
        "bolme = sayi1 / sayi2 if sayi2 !=0 else \"Sayı sıfıra bölünemez\"\n",
        "\n",
        "# Adım 3 : Sonucu göster\n",
        "print(\"\\n--- Sonuç ---\")\n",
        "print(f\"Toplama : {sayi1} + {sayi2} = {toplama}\")\n",
        "print(f\"Çıkarma : {sayi1} - {sayi2} = {cikarma}\")\n",
        "print(f\"Çarpma : {sayi1} x {sayi2} = {carpma}\")\n",
        "print(f\"Bölme : {sayi1} / {sayi2} = {bolme}\")"
      ]
    }
  ]
}