{
  "nbformat": 4,
  "nbformat_minor": 0,
  "metadata": {
    "colab": {
      "provenance": [],
      "authorship_tag": "ABX9TyPcZpoeSxxvboXUVSX32rTp",
      "include_colab_link": true
    },
    "kernelspec": {
      "name": "python3",
      "display_name": "Python 3"
    },
    "language_info": {
      "name": "python"
    }
  },
  "cells": [
    {
      "cell_type": "markdown",
      "metadata": {
        "id": "view-in-github",
        "colab_type": "text"
      },
      "source": [
        "<a href=\"https://colab.research.google.com/github/Enesdgrk/100-gunde-100-python-projesi/blob/main/Say%C4%B1Kar%C5%9F%C4%B1la%C5%9Ft%C4%B1rma.ipynb\" target=\"_parent\"><img src=\"https://colab.research.google.com/assets/colab-badge.svg\" alt=\"Open In Colab\"/></a>"
      ]
    },
    {
      "cell_type": "code",
      "execution_count": null,
      "metadata": {
        "id": "GXoij1WfeVQ4"
      },
      "outputs": [],
      "source": [
        "# Sayı Karşılaştırma Aracı\n",
        "\n",
        "sayi1 = float(input(\"Birinci Sayıyı Giriniz : \"))\n",
        "sayi2 = float(input(\"İkinci Sayıyı Giriniz : \"))\n",
        "\n",
        "print(\"\\n--- SAYI KARŞILAŞTIRMA ---\")\n",
        "\n",
        "if sayi1 == sayi2:\n",
        "  print(f\"Sayılar eşittir : {sayi1}\")\n",
        "elif sayi1 > sayi2:\n",
        "  print(f\"Birinci sayı ikinci sayıdan büyüktür : {sayi1}\")\n",
        "else:\n",
        "  print(f\"İkinci sayı birinci sayıdan büyüktür : {sayi2}\")\n",
        "\n",
        "if sayi1 == 0 or sayi2 == 0:\n",
        "  print(\"Sayılardan en az biri sıfır\")\n",
        "else:\n",
        "  print(\"Her iki sayı da sıfır değil\")"
      ]
    }
  ]
}