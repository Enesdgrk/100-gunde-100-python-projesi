{
  "nbformat": 4,
  "nbformat_minor": 0,
  "metadata": {
    "colab": {
      "provenance": [],
      "authorship_tag": "ABX9TyMvGIPwSTdvWGo9HjnAozOH",
      "include_colab_link": true
    },
    "kernelspec": {
      "name": "python3",
      "display_name": "Python 3"
    },
    "language_info": {
      "name": "python"
    }
  },
  "cells": [
    {
      "cell_type": "markdown",
      "metadata": {
        "id": "view-in-github",
        "colab_type": "text"
      },
      "source": [
        "<a href=\"https://colab.research.google.com/github/Enesdgrk/100-gunde-100-python-projesi/blob/main/MalzemeKontrolArac%C4%B1.ipynb\" target=\"_parent\"><img src=\"https://colab.research.google.com/assets/colab-badge.svg\" alt=\"Open In Colab\"/></a>"
      ]
    },
    {
      "cell_type": "code",
      "execution_count": null,
      "metadata": {
        "id": "Ehwf0dF9vcly"
      },
      "outputs": [],
      "source": [
        "# Malzeme Kontrol Aracı\n",
        "\n",
        "# 1. Adım: Tarif için gereken malzemeleri tanımla\n",
        "tarif_malzemeleri = {\"un\", \"şeker\", \"tereyağı\", \"yumurta\", \"süt\"}\n",
        "\n",
        "# 2. Adım: Kullanıcının elindeki malzemeleri al\n",
        "kullanici_girdisi = input(\"Elinizdeki malzemeleri girin (virgül ve boşluk ile ayırın): \")\n",
        "kullanici_malzemeleri = set(kullanici_girdisi.split(\", \"))\n",
        "\n",
        "# 3. Adım: Malzemeleri karşılaştır\n",
        "eksik_malzemeler = tarif_malzemeleri - kullanici_malzemeleri\n",
        "fazla_malzemeler = kullanici_malzemeleri - tarif_malzemeleri\n",
        "\n",
        "# 4. Adım: Sonuçları göster\n",
        "print(\"\\n--- Malzeme Kontrol Sonuçları ---\")\n",
        "if eksik_malzemeler:\n",
        "    print(f\"Eksik olan malzemeler: {', '.join(eksik_malzemeler)}\")\n",
        "else:\n",
        "    print(\"Tüm gerekli malzemelere sahipsiniz.\")\n",
        "\n",
        "if fazla_malzemeler:\n",
        "    print(f\"Tarif dışında elinizde olan malzemeler: {', '.join(fazla_malzemeler)}\")\n",
        "else:\n",
        "    print(\"Sadece tarifteki malzemelere sahipsiniz.\")\n"
      ]
    }
  ]
}